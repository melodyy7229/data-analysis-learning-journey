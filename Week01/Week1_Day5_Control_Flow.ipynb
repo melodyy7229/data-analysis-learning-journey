{
 "cells": [
  {
   "cell_type": "code",
   "execution_count": 8,
   "id": "63a7fd3f-c727-4b7c-9d90-b34e97b6b3ac",
   "metadata": {},
   "outputs": [
    {
     "name": "stdin",
     "output_type": "stream",
     "text": [
      "Enter first number:  7\n",
      "Enter operator (+, -, *, /): *\n",
      "Enter second number:  4\n"
     ]
    },
    {
     "name": "stdout",
     "output_type": "stream",
     "text": [
      "Result:  28.0\n"
     ]
    }
   ],
   "source": [
    "# Part 1: Simple Calculator\n",
    "\n",
    "# Get input from user\n",
    "number1= float(input('Enter first number: '))\n",
    "operator= input('Enter operator (+, -, *, /):')\n",
    "number2= float(input('Enter second number: '))\n",
    "\n",
    "#Perform Calculation\n",
    "if operator == '+':\n",
    "    result= number1+number2\n",
    "elif operator == '-':\n",
    "    result= number1-number2\n",
    "elif operator == '*':\n",
    "    result= number1*number2\n",
    "elif operator == '/':\n",
    "    result= number1/number2\n",
    "else:\n",
    "    result= 'Invalid Operator'\n",
    "\n",
    "#Show result\n",
    "print('Result: ', result)"
   ]
  },
  {
   "cell_type": "code",
   "execution_count": 9,
   "id": "421d3df9-e9d3-45d5-9949-6c54e70ec585",
   "metadata": {},
   "outputs": [
    {
     "name": "stdout",
     "output_type": "stream",
     "text": [
      "Now printing numbers from 1 to 10: \n",
      "1\n",
      "2\n",
      "3\n",
      "4\n",
      "5\n",
      "6\n",
      "7\n",
      "8\n",
      "9\n",
      "10\n"
     ]
    }
   ],
   "source": [
    "# Part 2: Print numbers from 1 to 10 using a for loop\n",
    "\n",
    "print ('Now printing numbers from 1 to 10: ')\n",
    "for i in range (1,11):\n",
    "    print (i)"
   ]
  },
  {
   "cell_type": "code",
   "execution_count": 4,
   "id": "33ff3b23-1ee7-4a8f-9773-94d24992c4af",
   "metadata": {},
   "outputs": [
    {
     "name": "stdout",
     "output_type": "stream",
     "text": [
      "Now printing numbers from 1 to 10: \n",
      "1\n",
      "2\n",
      "3\n",
      "4\n",
      "5\n",
      "6\n",
      "7\n",
      "8\n",
      "9\n",
      "10\n"
     ]
    }
   ],
   "source": [
    "# Part 3: Print numbers from 1 to 10 using while\n",
    "\n",
    "print ('Now printing numbers from 1 to 10: ')\n",
    "i=1\n",
    "while i<=10:\n",
    "    print (i)\n",
    "    i += 1"
   ]
  },
  {
   "cell_type": "code",
   "execution_count": null,
   "id": "b7c9344b-07f1-4945-ba29-e4fa87c783e5",
   "metadata": {},
   "outputs": [],
   "source": []
  }
 ],
 "metadata": {
  "kernelspec": {
   "display_name": "Python [conda env:base] *",
   "language": "python",
   "name": "conda-base-py"
  },
  "language_info": {
   "codemirror_mode": {
    "name": "ipython",
    "version": 3
   },
   "file_extension": ".py",
   "mimetype": "text/x-python",
   "name": "python",
   "nbconvert_exporter": "python",
   "pygments_lexer": "ipython3",
   "version": "3.12.7"
  }
 },
 "nbformat": 4,
 "nbformat_minor": 5
}
