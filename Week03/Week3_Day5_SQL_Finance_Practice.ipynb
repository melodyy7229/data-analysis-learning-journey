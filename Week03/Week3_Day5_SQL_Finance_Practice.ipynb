{
 "cells": [
  {
   "cell_type": "code",
   "execution_count": 2,
   "id": "c78b3f0c-25e6-417f-a8be-696a1f360f5e",
   "metadata": {},
   "outputs": [],
   "source": [
    "import sqlite3\n",
    "import pandas as pd"
   ]
  },
  {
   "cell_type": "code",
   "execution_count": 4,
   "id": "27ddfb70-ec0a-4f76-92e2-4bf4410da440",
   "metadata": {},
   "outputs": [],
   "source": [
    "conn = sqlite3.connect('finance.db')\n",
    "cursor = conn.cursor()"
   ]
  },
  {
   "cell_type": "code",
   "execution_count": 13,
   "id": "5997b44b-3f8f-4d1b-906a-c83a1d714366",
   "metadata": {},
   "outputs": [
    {
     "data": {
      "text/plain": [
       "<sqlite3.Cursor at 0x137938440>"
      ]
     },
     "execution_count": 13,
     "metadata": {},
     "output_type": "execute_result"
    }
   ],
   "source": [
    "cursor.execute('''\n",
    "CREATE TABLE IF NOT EXISTS companies (\n",
    "    company_id INTEGER PRIMARY KEY,\n",
    "    company_name TEXT NOT NULL,\n",
    "    industry TEXT NOT NULL,\n",
    "    founded_year INTEGER\n",
    ")\n",
    "''')"
   ]
  },
  {
   "cell_type": "code",
   "execution_count": 14,
   "id": "68f50edb-3180-4e1b-b98e-84508f8fe512",
   "metadata": {},
   "outputs": [
    {
     "data": {
      "text/plain": [
       "<sqlite3.Cursor at 0x137938440>"
      ]
     },
     "execution_count": 14,
     "metadata": {},
     "output_type": "execute_result"
    }
   ],
   "source": [
    "cursor.execute('''\n",
    "CREATE TABLE IF NOT EXISTS financial_reports (\n",
    "    report_id INTEGER PRIMARY KEY,\n",
    "    company_id INTEGER,\n",
    "    year INTEGER NOT NULL,\n",
    "    quarter INTEGER NOT NULL,\n",
    "    revenue REAL,\n",
    "    expenses REAL,\n",
    "    profit REAL,\n",
    "    FOREIGN KEY (company_id) REFERENCES companies (company_id)\n",
    ")\n",
    "''')"
   ]
  },
  {
   "cell_type": "code",
   "execution_count": 15,
   "id": "a4087deb-ef3c-4f2b-a253-35d56b16e672",
   "metadata": {},
   "outputs": [],
   "source": [
    "companies = [\n",
    "    (1, 'TechCorp', 'Technology', 2005),\n",
    "    (2, 'FinBank', 'Finance', 1995),\n",
    "    (3, 'EcoEnergy', 'Energy', 2010),\n",
    "    (4, 'HealthPlus', 'Healthcare', 2008),\n",
    "    (5, 'RetailGiant', 'Retail', 1980)\n",
    "]"
   ]
  },
  {
   "cell_type": "code",
   "execution_count": 16,
   "id": "10ff812a-7dbf-423e-8da2-00b19a5f43cb",
   "metadata": {},
   "outputs": [
    {
     "data": {
      "text/plain": [
       "<sqlite3.Cursor at 0x137938440>"
      ]
     },
     "execution_count": 16,
     "metadata": {},
     "output_type": "execute_result"
    }
   ],
   "source": [
    "cursor.executemany('''\n",
    "INSERT OR REPLACE INTO companies (company_id, company_name, industry, founded_year)\n",
    "VALUES (?, ?, ?, ?)\n",
    "''', companies)"
   ]
  },
  {
   "cell_type": "code",
   "execution_count": 24,
   "id": "58bb7c5b-577c-4de6-af62-5147e533cd32",
   "metadata": {},
   "outputs": [],
   "source": [
    "financial_data = []\n",
    "for company_id in range(1, 6):  \n",
    "    for year in range(2020, 2023):  \n",
    "        for quarter in range(1, 5):  \n",
    "            revenue = 100000 + company_id * 10000 + year * 1000 + quarter * 100\n",
    "            expenses = revenue * 0.7 \n",
    "            profit = revenue - expenses\n",
    "            \n",
    "            financial_data.append((\n",
    "                None,  \n",
    "                company_id,\n",
    "                year,\n",
    "                quarter,\n",
    "                revenue,\n",
    "                expenses,\n",
    "                profit\n",
    "            ))"
   ]
  },
  {
   "cell_type": "code",
   "execution_count": 18,
   "id": "4c42b983-fd45-4654-9d85-8f251cc3e9ca",
   "metadata": {},
   "outputs": [
    {
     "data": {
      "text/plain": [
       "<sqlite3.Cursor at 0x137938440>"
      ]
     },
     "execution_count": 18,
     "metadata": {},
     "output_type": "execute_result"
    }
   ],
   "source": [
    "cursor.executemany('''\n",
    "INSERT INTO financial_reports (report_id, company_id, year, quarter, revenue, expenses, profit)\n",
    "VALUES (?, ?, ?, ?, ?, ?, ?)\n",
    "''', financial_data)"
   ]
  },
  {
   "cell_type": "code",
   "execution_count": 19,
   "id": "9a7ee499-0738-4467-951d-af3d52fdda1f",
   "metadata": {},
   "outputs": [
    {
     "name": "stdout",
     "output_type": "stream",
     "text": [
      "All Companies:\n"
     ]
    },
    {
     "data": {
      "text/html": [
       "<div>\n",
       "<style scoped>\n",
       "    .dataframe tbody tr th:only-of-type {\n",
       "        vertical-align: middle;\n",
       "    }\n",
       "\n",
       "    .dataframe tbody tr th {\n",
       "        vertical-align: top;\n",
       "    }\n",
       "\n",
       "    .dataframe thead th {\n",
       "        text-align: right;\n",
       "    }\n",
       "</style>\n",
       "<table border=\"1\" class=\"dataframe\">\n",
       "  <thead>\n",
       "    <tr style=\"text-align: right;\">\n",
       "      <th></th>\n",
       "      <th>company_id</th>\n",
       "      <th>company_name</th>\n",
       "      <th>industry</th>\n",
       "      <th>founded_year</th>\n",
       "    </tr>\n",
       "  </thead>\n",
       "  <tbody>\n",
       "    <tr>\n",
       "      <th>0</th>\n",
       "      <td>1</td>\n",
       "      <td>TechCorp</td>\n",
       "      <td>Technology</td>\n",
       "      <td>2005</td>\n",
       "    </tr>\n",
       "    <tr>\n",
       "      <th>1</th>\n",
       "      <td>2</td>\n",
       "      <td>FinBank</td>\n",
       "      <td>Finance</td>\n",
       "      <td>1995</td>\n",
       "    </tr>\n",
       "    <tr>\n",
       "      <th>2</th>\n",
       "      <td>3</td>\n",
       "      <td>EcoEnergy</td>\n",
       "      <td>Energy</td>\n",
       "      <td>2010</td>\n",
       "    </tr>\n",
       "    <tr>\n",
       "      <th>3</th>\n",
       "      <td>4</td>\n",
       "      <td>HealthPlus</td>\n",
       "      <td>Healthcare</td>\n",
       "      <td>2008</td>\n",
       "    </tr>\n",
       "    <tr>\n",
       "      <th>4</th>\n",
       "      <td>5</td>\n",
       "      <td>RetailGiant</td>\n",
       "      <td>Retail</td>\n",
       "      <td>1980</td>\n",
       "    </tr>\n",
       "  </tbody>\n",
       "</table>\n",
       "</div>"
      ],
      "text/plain": [
       "   company_id company_name    industry  founded_year\n",
       "0           1     TechCorp  Technology          2005\n",
       "1           2      FinBank     Finance          1995\n",
       "2           3    EcoEnergy      Energy          2010\n",
       "3           4   HealthPlus  Healthcare          2008\n",
       "4           5  RetailGiant      Retail          1980"
      ]
     },
     "execution_count": 19,
     "metadata": {},
     "output_type": "execute_result"
    }
   ],
   "source": [
    "print(\"All Companies:\")\n",
    "pd.read_sql_query(\"SELECT * FROM companies\", conn)"
   ]
  },
  {
   "cell_type": "code",
   "execution_count": 20,
   "id": "2804c68c-ee99-41f3-a62d-0d75db2ab55e",
   "metadata": {},
   "outputs": [
    {
     "name": "stdout",
     "output_type": "stream",
     "text": [
      "Tech Companies:\n"
     ]
    },
    {
     "data": {
      "text/html": [
       "<div>\n",
       "<style scoped>\n",
       "    .dataframe tbody tr th:only-of-type {\n",
       "        vertical-align: middle;\n",
       "    }\n",
       "\n",
       "    .dataframe tbody tr th {\n",
       "        vertical-align: top;\n",
       "    }\n",
       "\n",
       "    .dataframe thead th {\n",
       "        text-align: right;\n",
       "    }\n",
       "</style>\n",
       "<table border=\"1\" class=\"dataframe\">\n",
       "  <thead>\n",
       "    <tr style=\"text-align: right;\">\n",
       "      <th></th>\n",
       "      <th>company_id</th>\n",
       "      <th>company_name</th>\n",
       "      <th>industry</th>\n",
       "      <th>founded_year</th>\n",
       "    </tr>\n",
       "  </thead>\n",
       "  <tbody>\n",
       "    <tr>\n",
       "      <th>0</th>\n",
       "      <td>1</td>\n",
       "      <td>TechCorp</td>\n",
       "      <td>Technology</td>\n",
       "      <td>2005</td>\n",
       "    </tr>\n",
       "  </tbody>\n",
       "</table>\n",
       "</div>"
      ],
      "text/plain": [
       "   company_id company_name    industry  founded_year\n",
       "0           1     TechCorp  Technology          2005"
      ]
     },
     "execution_count": 20,
     "metadata": {},
     "output_type": "execute_result"
    }
   ],
   "source": [
    "print(\"Tech Companies:\")\n",
    "pd.read_sql_query(\"SELECT * FROM companies WHERE industry = 'Technology'\", conn)"
   ]
  },
  {
   "cell_type": "code",
   "execution_count": 21,
   "id": "6ae23b5a-1f9a-4c40-93cb-33e1c30e4111",
   "metadata": {},
   "outputs": [
    {
     "name": "stdout",
     "output_type": "stream",
     "text": [
      "Recent Financial Reports:\n"
     ]
    },
    {
     "data": {
      "text/html": [
       "<div>\n",
       "<style scoped>\n",
       "    .dataframe tbody tr th:only-of-type {\n",
       "        vertical-align: middle;\n",
       "    }\n",
       "\n",
       "    .dataframe tbody tr th {\n",
       "        vertical-align: top;\n",
       "    }\n",
       "\n",
       "    .dataframe thead th {\n",
       "        text-align: right;\n",
       "    }\n",
       "</style>\n",
       "<table border=\"1\" class=\"dataframe\">\n",
       "  <thead>\n",
       "    <tr style=\"text-align: right;\">\n",
       "      <th></th>\n",
       "      <th>report_id</th>\n",
       "      <th>company_id</th>\n",
       "      <th>year</th>\n",
       "      <th>quarter</th>\n",
       "      <th>revenue</th>\n",
       "      <th>expenses</th>\n",
       "      <th>profit</th>\n",
       "    </tr>\n",
       "  </thead>\n",
       "  <tbody>\n",
       "    <tr>\n",
       "      <th>0</th>\n",
       "      <td>12</td>\n",
       "      <td>1</td>\n",
       "      <td>2022</td>\n",
       "      <td>4</td>\n",
       "      <td>2132400.0</td>\n",
       "      <td>1492680.0</td>\n",
       "      <td>639720.0</td>\n",
       "    </tr>\n",
       "    <tr>\n",
       "      <th>1</th>\n",
       "      <td>24</td>\n",
       "      <td>2</td>\n",
       "      <td>2022</td>\n",
       "      <td>4</td>\n",
       "      <td>2142400.0</td>\n",
       "      <td>1499680.0</td>\n",
       "      <td>642720.0</td>\n",
       "    </tr>\n",
       "    <tr>\n",
       "      <th>2</th>\n",
       "      <td>36</td>\n",
       "      <td>3</td>\n",
       "      <td>2022</td>\n",
       "      <td>4</td>\n",
       "      <td>2152400.0</td>\n",
       "      <td>1506680.0</td>\n",
       "      <td>645720.0</td>\n",
       "    </tr>\n",
       "    <tr>\n",
       "      <th>3</th>\n",
       "      <td>48</td>\n",
       "      <td>4</td>\n",
       "      <td>2022</td>\n",
       "      <td>4</td>\n",
       "      <td>2162400.0</td>\n",
       "      <td>1513680.0</td>\n",
       "      <td>648720.0</td>\n",
       "    </tr>\n",
       "    <tr>\n",
       "      <th>4</th>\n",
       "      <td>60</td>\n",
       "      <td>5</td>\n",
       "      <td>2022</td>\n",
       "      <td>4</td>\n",
       "      <td>2172400.0</td>\n",
       "      <td>1520680.0</td>\n",
       "      <td>651720.0</td>\n",
       "    </tr>\n",
       "    <tr>\n",
       "      <th>5</th>\n",
       "      <td>11</td>\n",
       "      <td>1</td>\n",
       "      <td>2022</td>\n",
       "      <td>3</td>\n",
       "      <td>2132300.0</td>\n",
       "      <td>1492610.0</td>\n",
       "      <td>639690.0</td>\n",
       "    </tr>\n",
       "    <tr>\n",
       "      <th>6</th>\n",
       "      <td>23</td>\n",
       "      <td>2</td>\n",
       "      <td>2022</td>\n",
       "      <td>3</td>\n",
       "      <td>2142300.0</td>\n",
       "      <td>1499610.0</td>\n",
       "      <td>642690.0</td>\n",
       "    </tr>\n",
       "    <tr>\n",
       "      <th>7</th>\n",
       "      <td>35</td>\n",
       "      <td>3</td>\n",
       "      <td>2022</td>\n",
       "      <td>3</td>\n",
       "      <td>2152300.0</td>\n",
       "      <td>1506610.0</td>\n",
       "      <td>645690.0</td>\n",
       "    </tr>\n",
       "    <tr>\n",
       "      <th>8</th>\n",
       "      <td>47</td>\n",
       "      <td>4</td>\n",
       "      <td>2022</td>\n",
       "      <td>3</td>\n",
       "      <td>2162300.0</td>\n",
       "      <td>1513610.0</td>\n",
       "      <td>648690.0</td>\n",
       "    </tr>\n",
       "    <tr>\n",
       "      <th>9</th>\n",
       "      <td>59</td>\n",
       "      <td>5</td>\n",
       "      <td>2022</td>\n",
       "      <td>3</td>\n",
       "      <td>2172300.0</td>\n",
       "      <td>1520610.0</td>\n",
       "      <td>651690.0</td>\n",
       "    </tr>\n",
       "  </tbody>\n",
       "</table>\n",
       "</div>"
      ],
      "text/plain": [
       "   report_id  company_id  year  quarter    revenue   expenses    profit\n",
       "0         12           1  2022        4  2132400.0  1492680.0  639720.0\n",
       "1         24           2  2022        4  2142400.0  1499680.0  642720.0\n",
       "2         36           3  2022        4  2152400.0  1506680.0  645720.0\n",
       "3         48           4  2022        4  2162400.0  1513680.0  648720.0\n",
       "4         60           5  2022        4  2172400.0  1520680.0  651720.0\n",
       "5         11           1  2022        3  2132300.0  1492610.0  639690.0\n",
       "6         23           2  2022        3  2142300.0  1499610.0  642690.0\n",
       "7         35           3  2022        3  2152300.0  1506610.0  645690.0\n",
       "8         47           4  2022        3  2162300.0  1513610.0  648690.0\n",
       "9         59           5  2022        3  2172300.0  1520610.0  651690.0"
      ]
     },
     "execution_count": 21,
     "metadata": {},
     "output_type": "execute_result"
    }
   ],
   "source": [
    "print(\"Recent Financial Reports:\")\n",
    "pd.read_sql_query(\"SELECT * FROM financial_reports ORDER BY year DESC, quarter DESC LIMIT 10\", conn)"
   ]
  },
  {
   "cell_type": "code",
   "execution_count": 22,
   "id": "c1f9b35a-5259-4ecf-8551-df57a1d27a04",
   "metadata": {},
   "outputs": [
    {
     "name": "stdout",
     "output_type": "stream",
     "text": [
      "Total Revenue of each company:\n"
     ]
    },
    {
     "data": {
      "text/html": [
       "<div>\n",
       "<style scoped>\n",
       "    .dataframe tbody tr th:only-of-type {\n",
       "        vertical-align: middle;\n",
       "    }\n",
       "\n",
       "    .dataframe tbody tr th {\n",
       "        vertical-align: top;\n",
       "    }\n",
       "\n",
       "    .dataframe thead th {\n",
       "        text-align: right;\n",
       "    }\n",
       "</style>\n",
       "<table border=\"1\" class=\"dataframe\">\n",
       "  <thead>\n",
       "    <tr style=\"text-align: right;\">\n",
       "      <th></th>\n",
       "      <th>company_name</th>\n",
       "      <th>total_revenue</th>\n",
       "    </tr>\n",
       "  </thead>\n",
       "  <tbody>\n",
       "    <tr>\n",
       "      <th>0</th>\n",
       "      <td>RetailGiant</td>\n",
       "      <td>26055000.0</td>\n",
       "    </tr>\n",
       "    <tr>\n",
       "      <th>1</th>\n",
       "      <td>HealthPlus</td>\n",
       "      <td>25935000.0</td>\n",
       "    </tr>\n",
       "    <tr>\n",
       "      <th>2</th>\n",
       "      <td>EcoEnergy</td>\n",
       "      <td>25815000.0</td>\n",
       "    </tr>\n",
       "    <tr>\n",
       "      <th>3</th>\n",
       "      <td>FinBank</td>\n",
       "      <td>25695000.0</td>\n",
       "    </tr>\n",
       "    <tr>\n",
       "      <th>4</th>\n",
       "      <td>TechCorp</td>\n",
       "      <td>25575000.0</td>\n",
       "    </tr>\n",
       "  </tbody>\n",
       "</table>\n",
       "</div>"
      ],
      "text/plain": [
       "  company_name  total_revenue\n",
       "0  RetailGiant     26055000.0\n",
       "1   HealthPlus     25935000.0\n",
       "2    EcoEnergy     25815000.0\n",
       "3      FinBank     25695000.0\n",
       "4     TechCorp     25575000.0"
      ]
     },
     "execution_count": 22,
     "metadata": {},
     "output_type": "execute_result"
    }
   ],
   "source": [
    "print(\"Total Revenue of each company:\")\n",
    "pd.read_sql_query(\"\"\"\n",
    "SELECT c.company_name, SUM(f.revenue) as total_revenue\n",
    "FROM financial_reports f\n",
    "JOIN companies c ON f.company_id = c.company_id\n",
    "GROUP BY f.company_id\n",
    "ORDER BY total_revenue DESC\n",
    "\"\"\", conn)"
   ]
  },
  {
   "cell_type": "code",
   "execution_count": 23,
   "id": "21ed862b-435e-413a-b85f-b0590096b26c",
   "metadata": {},
   "outputs": [
    {
     "name": "stdout",
     "output_type": "stream",
     "text": [
      "2022 Q1 most profitable company:\n"
     ]
    },
    {
     "data": {
      "text/html": [
       "<div>\n",
       "<style scoped>\n",
       "    .dataframe tbody tr th:only-of-type {\n",
       "        vertical-align: middle;\n",
       "    }\n",
       "\n",
       "    .dataframe tbody tr th {\n",
       "        vertical-align: top;\n",
       "    }\n",
       "\n",
       "    .dataframe thead th {\n",
       "        text-align: right;\n",
       "    }\n",
       "</style>\n",
       "<table border=\"1\" class=\"dataframe\">\n",
       "  <thead>\n",
       "    <tr style=\"text-align: right;\">\n",
       "      <th></th>\n",
       "      <th>company_name</th>\n",
       "      <th>profit</th>\n",
       "    </tr>\n",
       "  </thead>\n",
       "  <tbody>\n",
       "    <tr>\n",
       "      <th>0</th>\n",
       "      <td>RetailGiant</td>\n",
       "      <td>651630.0</td>\n",
       "    </tr>\n",
       "    <tr>\n",
       "      <th>1</th>\n",
       "      <td>HealthPlus</td>\n",
       "      <td>648630.0</td>\n",
       "    </tr>\n",
       "    <tr>\n",
       "      <th>2</th>\n",
       "      <td>EcoEnergy</td>\n",
       "      <td>645630.0</td>\n",
       "    </tr>\n",
       "    <tr>\n",
       "      <th>3</th>\n",
       "      <td>FinBank</td>\n",
       "      <td>642630.0</td>\n",
       "    </tr>\n",
       "    <tr>\n",
       "      <th>4</th>\n",
       "      <td>TechCorp</td>\n",
       "      <td>639630.0</td>\n",
       "    </tr>\n",
       "  </tbody>\n",
       "</table>\n",
       "</div>"
      ],
      "text/plain": [
       "  company_name    profit\n",
       "0  RetailGiant  651630.0\n",
       "1   HealthPlus  648630.0\n",
       "2    EcoEnergy  645630.0\n",
       "3      FinBank  642630.0\n",
       "4     TechCorp  639630.0"
      ]
     },
     "execution_count": 23,
     "metadata": {},
     "output_type": "execute_result"
    }
   ],
   "source": [
    "print(\"2022 Q1 most profitable company:\")\n",
    "pd.read_sql_query(\"\"\"\n",
    "SELECT c.company_name, f.profit\n",
    "FROM financial_reports f\n",
    "JOIN companies c ON f.company_id = c.company_id\n",
    "WHERE f.year = 2022 AND f.quarter = 1\n",
    "ORDER BY f.profit DESC\n",
    "\"\"\", conn)"
   ]
  },
  {
   "cell_type": "code",
   "execution_count": null,
   "id": "6f5ef9bf-0c1c-4c18-bd2a-6a633922ad49",
   "metadata": {},
   "outputs": [],
   "source": []
  }
 ],
 "metadata": {
  "kernelspec": {
   "display_name": "Python [conda env:base] *",
   "language": "python",
   "name": "conda-base-py"
  },
  "language_info": {
   "codemirror_mode": {
    "name": "ipython",
    "version": 3
   },
   "file_extension": ".py",
   "mimetype": "text/x-python",
   "name": "python",
   "nbconvert_exporter": "python",
   "pygments_lexer": "ipython3",
   "version": "3.12.7"
  }
 },
 "nbformat": 4,
 "nbformat_minor": 5
}
