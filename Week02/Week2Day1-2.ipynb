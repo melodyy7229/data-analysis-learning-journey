{
 "cells": [
  {
   "cell_type": "code",
   "execution_count": 2,
   "id": "90840adc-483d-4127-91e1-adb508532b6b",
   "metadata": {},
   "outputs": [
    {
     "name": "stdout",
     "output_type": "stream",
     "text": [
      "Antoine de Saint-Exupéry\n"
     ]
    }
   ],
   "source": [
    "book = {\n",
    "    'title': 'The Little Prince',\n",
    "    'author': 'Antoine de Saint-Exupéry',\n",
    "    'year': 1943}\n",
    "\n",
    "print(book['author'])"
   ]
  },
  {
   "cell_type": "code",
   "execution_count": 5,
   "id": "88fad8fa-399e-4762-a48a-ca3e906ef4c8",
   "metadata": {},
   "outputs": [
    {
     "name": "stdout",
     "output_type": "stream",
     "text": [
      "{'name': 'Tom', 'scores': [80, 90, 75], 'Passed': True}\n"
     ]
    }
   ],
   "source": [
    "student = {\"name\": \"Tom\", \"scores\": [80, 90, 75]}\n",
    "student ['Passed'] =True\n",
    "print(student)"
   ]
  },
  {
   "cell_type": "code",
   "execution_count": 6,
   "id": "d37319eb-08c0-4de8-bd86-776819e3fd00",
   "metadata": {},
   "outputs": [
    {
     "name": "stdout",
     "output_type": "stream",
     "text": [
      "a 1\n",
      "b 2\n",
      "c 3\n"
     ]
    }
   ],
   "source": [
    "d = {\"a\": 1, \"b\": 2, \"c\": 3}\n",
    "for key in d:\n",
    "    print(key, d[key])"
   ]
  },
  {
   "cell_type": "code",
   "execution_count": 8,
   "id": "7863762b-6cd6-4a30-87bc-de84e4ad57ef",
   "metadata": {},
   "outputs": [
    {
     "name": "stdout",
     "output_type": "stream",
     "text": [
      "Ben\n"
     ]
    }
   ],
   "source": [
    "grades = {\"Amy\": 88, \"Ben\": 91, \"Clara\": 85}\n",
    "top_student = max(grades, key=grades.get) #max(iterable, key=...)\n",
    "print(top_student)"
   ]
  },
  {
   "cell_type": "code",
   "execution_count": null,
   "id": "b6f37e4c-ec22-49bb-9cbb-c136e62bc4a2",
   "metadata": {},
   "outputs": [],
   "source": []
  }
 ],
 "metadata": {
  "kernelspec": {
   "display_name": "Python [conda env:base] *",
   "language": "python",
   "name": "conda-base-py"
  },
  "language_info": {
   "codemirror_mode": {
    "name": "ipython",
    "version": 3
   },
   "file_extension": ".py",
   "mimetype": "text/x-python",
   "name": "python",
   "nbconvert_exporter": "python",
   "pygments_lexer": "ipython3",
   "version": "3.12.7"
  }
 },
 "nbformat": 4,
 "nbformat_minor": 5
}
