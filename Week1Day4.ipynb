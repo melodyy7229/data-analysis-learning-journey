{
 "cells": [
  {
   "cell_type": "code",
   "execution_count": 1,
   "id": "3bf3cdfc-b394-48b0-bc21-61b793190d3d",
   "metadata": {},
   "outputs": [
    {
     "name": "stdout",
     "output_type": "stream",
     "text": [
      "<class 'int'>\n",
      "<class 'str'>\n",
      "<class 'float'>\n"
     ]
    }
   ],
   "source": [
    "# What will be the output of this code?\n",
    "x = 5\n",
    "y = \"5\"\n",
    "z = 5.0\n",
    "\n",
    "print(type(x))   # Output?\n",
    "print(type(y))   # Output?\n",
    "print(type(z))   # Output?"
   ]
  },
  {
   "cell_type": "code",
   "execution_count": 4,
   "id": "65412184-d32a-4991-be50-f8b752f35575",
   "metadata": {},
   "outputs": [
    {
     "name": "stdout",
     "output_type": "stream",
     "text": [
      "123.45\n",
      "123\n"
     ]
    }
   ],
   "source": [
    "# Convert the string \"123.45\" to a float and an integer\n",
    "s = \"123.45\"\n",
    "\n",
    "# Your code here:\n",
    "f = float(s)\n",
    "i = int(float(s))\n",
    "\n",
    "print(f)  # Expected: 123.45\n",
    "print(i)  # Expected: 123"
   ]
  },
  {
   "cell_type": "code",
   "execution_count": 5,
   "id": "0c657841-2c83-4bab-8f1f-a69a5b4c721b",
   "metadata": {},
   "outputs": [
    {
     "name": "stdout",
     "output_type": "stream",
     "text": [
      "3\n",
      "1\n",
      "1000\n",
      "False\n",
      "True\n"
     ]
    }
   ],
   "source": [
    "# What will this print? Predict before running.\n",
    "a = 10\n",
    "b = 3\n",
    "\n",
    "print(a // b)   # integer division\n",
    "print(a % b)    # modulo\n",
    "print(a ** b)   # exponent\n",
    "print(a == b)   # equality\n",
    "print(a != b)   # not equal"
   ]
  },
  {
   "cell_type": "code",
   "execution_count": 8,
   "id": "253dc77c-eddc-4832-9cf5-f034d75bb90a",
   "metadata": {},
   "outputs": [
    {
     "name": "stdout",
     "output_type": "stream",
     "text": [
      "positive\n",
      "zero\n",
      "negative\n"
     ]
    }
   ],
   "source": [
    "# Write a function that returns:\n",
    "# \"positive\" if number > 0,\n",
    "# \"zero\" if number == 0,\n",
    "# \"negative\" if number < 0\n",
    "\n",
    "def check_number(number):\n",
    "    # Your code here\n",
    "    if number >0:\n",
    "        return 'positive'\n",
    "    elif number ==0:\n",
    "        return 'zero'\n",
    "    else:\n",
    "        return 'negative'\n",
    "   \n",
    "print(check_number(5))    # positive\n",
    "print(check_number(0))    # zero\n",
    "print(check_number(-3))   # negative"
   ]
  },
  {
   "cell_type": "code",
   "execution_count": 9,
   "id": "53828319-74b0-49f1-b835-f5438ec7b32e",
   "metadata": {},
   "outputs": [
    {
     "name": "stdout",
     "output_type": "stream",
     "text": [
      "A\n",
      "C\n",
      "F\n"
     ]
    }
   ],
   "source": [
    "# Write a function that takes a score and returns a grade:\n",
    "# 90–100: A, 80–89: B, 70–79: C, 60–69: D, <60: F\n",
    "\n",
    "def get_grade(score):\n",
    "    # Your code here\n",
    "    if score >= 90:\n",
    "        return 'A'\n",
    "    elif score >= 80:\n",
    "        return 'B'\n",
    "    elif score >= 70:\n",
    "        return 'C'\n",
    "    elif score >= 60:\n",
    "        return 'D'\n",
    "    else:\n",
    "        return 'F'\n",
    "\n",
    "print(get_grade(95))  # A\n",
    "print(get_grade(75))  # C\n",
    "print(get_grade(50))  # F\n"
   ]
  },
  {
   "cell_type": "code",
   "execution_count": null,
   "id": "1cd020eb-ba19-43bb-9bb1-a1b150e6b874",
   "metadata": {},
   "outputs": [],
   "source": []
  }
 ],
 "metadata": {
  "kernelspec": {
   "display_name": "Python [conda env:base] *",
   "language": "python",
   "name": "conda-base-py"
  },
  "language_info": {
   "codemirror_mode": {
    "name": "ipython",
    "version": 3
   },
   "file_extension": ".py",
   "mimetype": "text/x-python",
   "name": "python",
   "nbconvert_exporter": "python",
   "pygments_lexer": "ipython3",
   "version": "3.12.7"
  }
 },
 "nbformat": 4,
 "nbformat_minor": 5
}
